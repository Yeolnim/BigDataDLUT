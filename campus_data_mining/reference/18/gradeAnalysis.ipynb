{
 "cells": [
  {
   "cell_type": "markdown",
   "metadata": {
    "pycharm": {
     "name": "#%% md\n"
    }
   },
   "source": [
    "# 课程难度评价模型\n",
    "## 要点\n",
    "1. 标准化成绩\n",
    "2. 计算信度\n",
    "3. 做出趋势  \n",
    "\n",
    "本篇代码中使用特定某一门科目，实际是可变的，输入不同的科目可以分析出不同的趋势  \n",
    "可变的部分进行注释，实际使用固定的科目"
   ]
  },
  {
   "cell_type": "code",
   "execution_count": 37,
   "metadata": {
    "pycharm": {
     "is_executing": false,
     "name": "#%%\n"
    }
   },
   "outputs": [],
   "source": [
    "import numpy as np\n",
    "import pandas as pd\n",
    "import matplotlib.pyplot as plt\n",
    "import datetime\n",
    "import os\n",
    "from scipy import stats\n"
   ]
  },
  {
   "cell_type": "code",
   "execution_count": 17,
   "metadata": {
    "pycharm": {
     "is_executing": false,
     "name": "#%%\n"
    }
   },
   "outputs": [
    {
     "name": "stdout",
     "output_type": "stream",
     "text": [
      "                xh       ksrq   kccj\n",
      "294575   201424055     180701   70.0\n",
      "1319456  201405067     180729   60.0\n",
      "1835058  201650028     190113   65.0\n",
      "825816   201740018     190119   89.0\n",
      "1788503  201424146    2019113   78.0\n",
      "861239   201514116   20090113   60.0\n",
      "187230   299619221   20100626   79.0\n",
      "682587   208815061   20120328   60.0\n",
      "805975   220920110   20130530   60.0\n",
      "1147668  201422064   20140101   88.0\n",
      "1006518  201403087   20140107   82.0\n",
      "325365   201412079   20140917   86.0\n",
      "289756   201452061   20140930   63.0\n",
      "769810   201492054   20141215   70.0\n",
      "1055713  201492069   20141216  100.0\n",
      "1436400  201484116   20141220  412.0\n",
      "344997   201403056   20141229   85.0\n",
      "293724   201452097   20141230   33.0\n",
      "1308005  201412137   20150105   84.0\n",
      "79702    201423075   20150107   72.0\n",
      "916462   201433037   20150108   87.0\n",
      "540413   201453004   20150112   80.0\n",
      "924505   201453072   20150113   93.0\n",
      "349424   201512062   20150117   82.0\n",
      "343076   201461111   20150118   61.0\n",
      "805640   201429065   20150119   80.0\n",
      "870521   201502081   20150301   80.0\n",
      "1638020  201471118   20150308   77.0\n",
      "1310163  201448138   20150318   60.0\n",
      "1488638  201419323   20150320   19.0\n",
      "...            ...        ...    ...\n",
      "1414605  201710075   20181019   60.0\n",
      "1452286  201818121   20181101   73.0\n",
      "1809210  201579068   20181203   81.0\n",
      "1833794  201416068   20181205   60.0\n",
      "1810809  201620016   20181206   60.0\n",
      "1542208  201477028   20190101    0.0\n",
      "1451709  201500103   20190104   60.0\n",
      "1757508  201469045   20190111   68.0\n",
      "1810439  201426034   20190112   60.0\n",
      "1822742  201614031   20190113   82.0\n",
      "217797   201605011   20190224   80.0\n",
      "344603   201733006   20190225   46.0\n",
      "1811180  201506116   20190226   60.0\n",
      "1230639  201603065   20190227    0.0\n",
      "1226950  201662448   20190228   64.0\n",
      "903821   201622061   20190301   49.0\n",
      "350099   201723000   20190304   43.5\n",
      "1832791  201500075   20190305   60.0\n",
      "1189174  201652444   20190306    0.0\n",
      "1430056  201528078   20190307   60.0\n",
      "309189   201623055   20190308    0.0\n",
      "185689   201539130   20190312    0.0\n",
      "37981    201853070   20190314   61.0\n",
      "1716389  201509039   20190315   60.0\n",
      "1191312  201482030   20190318   60.0\n",
      "1441909  201520092   20190319   60.0\n",
      "1668906  201843042   20190320   60.0\n",
      "1718520  201500096   20190402   60.0\n",
      "1840990  201520086   20190623   87.0\n",
      "361212   201412056  201425016   89.0\n",
      "\n",
      "[275 rows x 3 columns]\n"
     ]
    }
   ],
   "source": [
    "dataToDeal = pd.read_csv('bks_cjxx_out_true.csv',skiprows=0)\n",
    "dA = dataToDeal\n",
    "# print(dA)\n",
    "dataAfterDeal = dA[['xh','ksrq','kch','kccj']]\n",
    "courseNeedToAnalysis = 1110020010 #课程号可以修改成别的课程\n",
    "dataAfterDeal = dataAfterDeal[dataAfterDeal['kch'].isin([str(courseNeedToAnalysis)])]\n",
    "dataAfterDeal = dA[['xh','ksrq','kccj']]\n",
    "dataAfterDeal = dataAfterDeal.sort_values(by='ksrq',ascending=True)\n",
    "dBtemp = dataAfterDeal\n",
    "print(dBtemp.drop_duplicates('ksrq'))\n",
    "dataAfterDeal = dataAfterDeal.values\n"
   ]
  },
  {
   "cell_type": "code",
   "execution_count": 35,
   "metadata": {
    "pycharm": {
     "is_executing": false,
     "name": "#%%\n"
    }
   },
   "outputs": [
    {
     "name": "stderr",
     "output_type": "stream",
     "text": [
      "IOPub data rate exceeded.\n",
      "The notebook server will temporarily stop sending output\n",
      "to the client in order to avoid crashing it.\n",
      "To change this limit, set the config variable\n",
      "`--NotebookApp.iopub_data_rate_limit`.\n",
      "\n",
      "Current values:\n",
      "NotebookApp.iopub_data_rate_limit=1000000.0 (bytes/sec)\n",
      "NotebookApp.rate_limit_window=3.0 (secs)\n",
      "\n"
     ]
    }
   ],
   "source": [
    "# 分类搜集各个年份的数据\n",
    "# print(dataAfterDeal)\n",
    "grades=[[],[],[],[],[],[],[],[],[],[],[]]\n",
    "for row in dataAfterDeal:\n",
    "    if row[1] >= 200000 and row[1] <= 300000 and row[2] <= 100:\n",
    "        grades[int(row[1]/1000)-2009].append(row[2])\n",
    "    elif row[1] >= 20000000 and row[1] <= 30000000 and row[2] <= 100:\n",
    "        grades[int(row[1]/10000)-2009].append(row[2])\n",
    "    elif row[1] >= 100000 and row[1] <= 200000 and row[2] <= 100:\n",
    "        grades[int(row[1]/10000)+2000-2009].append(row[2])\n",
    "print(grades)\n"
   ]
  },
  {
   "cell_type": "code",
   "execution_count": 46,
   "metadata": {
    "pycharm": {
     "is_executing": false,
     "name": "#%%\n"
    }
   },
   "outputs": [
    {
     "name": "stdout",
     "output_type": "stream",
     "text": [
      "NormaltestResult(statistic=2710.765249185946, pvalue=0.0)\n",
      "\n",
      "NormaltestResult(statistic=79590.62231311583, pvalue=0.0)\n",
      "\n",
      "NormaltestResult(statistic=147227.40358196473, pvalue=0.0)\n",
      "\n",
      "NormaltestResult(statistic=205750.268956915, pvalue=0.0)\n",
      "\n",
      "NormaltestResult(statistic=225717.46489157618, pvalue=0.0)\n",
      "\n",
      "NormaltestResult(statistic=115898.93713501381, pvalue=0.0)\n",
      "\n",
      "[60.0, 79.0, 0, 60.0, 60.0, 80.40045766590389, 76.00166084228856, 75.28939167242933, 75.4027730287259, 74.73782880173066, 75.33123700446535]\n",
      "[0, 0, 0, 0, 0, NormaltestResult(statistic=2710.765249185946, pvalue=0.0), NormaltestResult(statistic=79590.62231311583, pvalue=0.0), NormaltestResult(statistic=147227.40358196473, pvalue=0.0), NormaltestResult(statistic=205750.268956915, pvalue=0.0), NormaltestResult(statistic=225717.46489157618, pvalue=0.0), NormaltestResult(statistic=115898.93713501381, pvalue=0.0)]\n"
     ]
    }
   ],
   "source": [
    "#计算出平均成绩,以及与对应的高斯分布的协方差，平均成绩的变化反映难度的变化，协方差的变化反映信度的变化\n",
    "averageGrades = [0,0,0,0,0,0,0,0,0,0,0]\n",
    "pNormalGrades = [0,0,0,0,0,0,0,0,0,0,0]\n",
    "i = 0\n",
    "for temp in grades:\n",
    "    if(len(temp)!=0):\n",
    "        averageGrades[i] = sum(temp)/float(len(temp))\n",
    "        if(len(temp)>=3):\n",
    "            pNormalGrades[i] = stats.normaltest(temp)\n",
    "            print(pNormalGrades[i])\n",
    "            print()\n",
    "    i += 1\n",
    "print(averageGrades)\n",
    "print(pNormalGrades)\n"
   ]
  },
  {
   "cell_type": "code",
   "execution_count": 53,
   "metadata": {
    "pycharm": {
     "is_executing": false,
     "name": "#%%\n"
    }
   },
   "outputs": [
    {
     "name": "stdout",
     "output_type": "stream",
     "text": [
      "\n"
     ]
    },
    {
     "data": {
      "image/png": "[encoded data removed]",
      "text/plain": [
       "<Figure size 518.4x302.4 with 1 Axes>"
      ]
     },
     "metadata": {
      "needs_background": "light"
     },
     "output_type": "display_data"
    }
   ],
   "source": [
    "#总结，做出图像，其中理念的数据均不符合标准正态分布，故不分析其信度\n",
    "time=range(2009,2020)\n",
    "plt.plot(time,averageGrades,'bo-')\n",
    "plt.xticks(fontsize=12)\n",
    "plt.yticks(fontsize=12)\n",
    "plt.xlabel('Time',fontsize=14)\n",
    "plt.ylabel('Average grade of the course',fontsize=14)\n",
    "fig = plt.gcf()\n",
    "fig.set_size_inches(7.2, 4.2)\n",
    "print()\n",
    "fig.savefig(os.getcwd()+'\\pictureCourseGrade.png', dpi=300)\n",
    "plt.show()"
   ]
  }
 ],
 "metadata": {
  "kernelspec": {
   "display_name": "Python 3",
   "language": "python",
   "name": "python3"
  },
  "language_info": {
   "codemirror_mode": {
    "name": "ipython",
    "version": 3
   },
   "file_extension": ".py",
   "mimetype": "text/x-python",
   "name": "python",
   "nbconvert_exporter": "python",
   "pygments_lexer": "ipython3",
   "version": "3.7.3"
  },
  "pycharm": {
   "stem_cell": {
    "cell_type": "raw",
    "metadata": {
     "collapsed": false
    },
    "source": []
   }
  }
 },
 "nbformat": 4,
 "nbformat_minor": 1
}
